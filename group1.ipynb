{
  "nbformat": 4,
  "nbformat_minor": 0,
  "metadata": {
    "colab": {
      "name": "group1.ipynb",
      "provenance": [],
      "collapsed_sections": [],
      "authorship_tag": "ABX9TyNkd6GxXoydt58Qn6ipCZxg",
      "include_colab_link": true
    },
    "kernelspec": {
      "name": "python3",
      "display_name": "Python 3"
    },
    "language_info": {
      "name": "python"
    }
  },
  "cells": [
    {
      "cell_type": "markdown",
      "metadata": {
        "id": "view-in-github",
        "colab_type": "text"
      },
      "source": [
        "<a href=\"https://colab.research.google.com/github/lemon6677/LSTM/blob/master/group1.ipynb\" target=\"_parent\"><img src=\"https://colab.research.google.com/assets/colab-badge.svg\" alt=\"Open In Colab\"/></a>"
      ]
    },
    {
      "cell_type": "code",
      "execution_count": null,
      "metadata": {
        "id": "3YPcDexcIq2z"
      },
      "outputs": [],
      "source": [
        "\n",
        "#coding=utf-8\n",
        "import pandas as pd\n",
        "import numpy as np\n",
        "import matplotlib.pyplot as plt\n",
        "import tensorflow as tf\n",
        "\n",
        "f = open('04LOBS.csv')\n",
        "df = pd.read_csv(f,engine='python',encoding='utf-8')         #读入股票数据\n",
        "data = np.array(df['bid'])  #获取最高价序列\n",
        "#data = data[::-1]#反转，使数据按照日期先后顺序排列\n",
        "#以折线图展示data\n",
        "# plt.figure()\n",
        "# plt.plot(data)\n",
        "# plt.show()\n",
        "normalize_data = (data - np.mean(data)) / np.std(data)#标准化\n",
        "normalize_data = normalize_data[:, np.newaxis]#%tb增加维度\n",
        "\n"
      ]
    },
    {
      "cell_type": "code",
      "source": [
        "time_step = 20      #时间步\n",
        "rnn_unit = 10       #hidden layer units\n",
        "lstm_layers = 2     #每一批次训练多少个样例\n",
        "batch_size = 60     #输入层维度  #每一批次训练多少个样例\n",
        "input_size = 1      #输入层维度\n",
        "output_size = 1     #输出层维度\n",
        "lr = 0.0006         #学习率\n",
        "train_x, train_y = [], []#训练集\n",
        "tf.compat.v1.disable_eager_execution()\n",
        "for i in range(len(normalize_data) - time_step - 1):\n",
        "    x = normalize_data[i:i + time_step]\n",
        "    y = normalize_data[i + 1:i + time_step + 1]\n",
        "    train_x.append(x.tolist())\n",
        "    train_y.append(y.tolist())\n",
        "\n",
        "X = tf.compat.v1.placeholder(tf.float32, [None, time_step, input_size])   #每批次输入网络的tensor\n",
        "Y = tf.compat.v1.placeholder(tf.float32, [None, time_step, output_size]) "
      ],
      "metadata": {
        "id": "laPsIskgIxsr"
      },
      "execution_count": null,
      "outputs": []
    },
    {
      "cell_type": "code",
      "source": [
        "weights = {\n",
        "    'in': tf.Variable(tf.random.normal([input_size, rnn_unit])),\n",
        "    'out': tf.Variable(tf.random.normal([rnn_unit, 1]))\n",
        "}\n",
        "biases = {\n",
        "    'in': tf.Variable(tf.constant(0.1, shape=[rnn_unit, ])),\n",
        "    'out': tf.Variable(tf.constant(0.1, shape=[1, ]))\n",
        "}\n",
        "\n",
        "#参数：输入网络批次数目\n",
        "def lstm(batch):#参数：输入网络批次数目\n",
        "    w_in = weights['in']\n",
        "    b_in = biases['in']\n",
        "    input = tf.reshape(X, [-1, input_size])#需要将tensor转成2维进行计算，计算后的结果作为隐藏层的输入\n",
        "    input_rnn = tf.matmul(input, w_in) + b_in\n",
        "    input_rnn = tf.reshape(input_rnn, [-1, time_step, rnn_unit])#将tensor转成3维，作为lstm cell的输入\n",
        "    cell = tf.nn.rnn_cell.MultiRNNCell([tf.nn.rnn_cell.BasicLSTMCell(rnn_unit) for i in range(lstm_layers)])\n",
        "    init_state = cell.zero_state(batch, dtype=tf.float32)\n",
        "    output_rnn, final_states = tf.nn.dynamic_rnn(cell, input_rnn, initial_state=init_state, dtype=tf.float32)\n",
        "    output = tf.reshape(output_rnn, [-1, rnn_unit])#作为输出层的输入\n",
        "    w_out = weights['out']\n",
        "    b_out = biases['out']\n",
        "    pred = tf.matmul(output, w_out) + b_out\n",
        "    return pred, final_states\n"
      ],
      "metadata": {
        "id": "eCImqJntI2_r"
      },
      "execution_count": null,
      "outputs": []
    },
    {
      "cell_type": "code",
      "source": [
        "def train_lstm():\n",
        "    global batch_size\n",
        "    with tf.compat.v1.variable_scope(\"sec_lstm\"):\n",
        "        pred, _ = lstm(batch_size)\n",
        "    # 损失函数\n",
        "    loss = tf.reduce_mean(tf.square(tf.reshape(pred, [-1]) - tf.reshape(Y, [-1])))\n",
        "    train_op = tf.train.AdamOptimizer(lr).minimize(loss)\n",
        "    saver = tf.train.Saver(tf.global_variables())\n",
        "    with tf.Session() as sess:\n",
        "        sess.run(tf.global_variables_initializer())\n",
        "        # 重复训练10000次\n",
        "        for i in range(100):  # We can increase the number of iterations to gain better result.\n",
        "            step = 0\n",
        "            start = 0\n",
        "            end = start + batch_size\n",
        "            print(\"i = \",i)\n",
        "            while (end < len(train_x)):\n",
        "                _, loss_ = sess.run([train_op, loss], feed_dict={X: train_x[start:end], Y: train_y[start:end]})\n",
        "                start += batch_size\n",
        "                end = start + batch_size\n",
        "\n",
        "                if step % 100 == 0:  #每10步保存一次参数\n",
        "                    print(\"Number of iterations:\", i, \" loss:\", loss_)\n",
        "                    print(\"model_save\", saver.save(sess, 'model_save1\\\\modle.ckpt'))\n",
        "                    # I run the code in windows 10,so use  'model_save1\\\\modle.ckpt'\n",
        "                    # if you run it in Linux,please use  'model_save1/modle.ckpt'\n",
        "                step += 1\n",
        "        print(\"The train has finished\")\n",
        "\n",
        "\n",
        "#train_lstm()\n"
      ],
      "metadata": {
        "id": "-1thkIaeI7QV"
      },
      "execution_count": null,
      "outputs": []
    },
    {
      "cell_type": "code",
      "source": [
        "import tensorflow.compat.v1 as tf\n",
        "\n",
        "tf.disable_v2_behavior()\n",
        "def prediction():\n",
        "    with tf.compat.v1.variable_scope(\"sec_lstm\", reuse=tf.compat.v1.AUTO_REUSE):\n",
        "        pred, _ = lstm(1)#预测时只输入[1,time_step,input_size]的测试数据\n",
        "    saver = tf.train.Saver(tf.global_variables())\n",
        "    with tf.Session() as sess:\n",
        "        saver.restore(sess,'model_save1/modle.ckpt')#参数恢复\n",
        "        # I run the code in windows 10,so use  'model_save1\\\\modle.ckpt'\n",
        "        # if you run it in Linux,please use  'model_save1/modle.ckpt'\n",
        "        # 取训练集最后一行为测试样本。shape=[1,time_step,input_size]\n",
        "        prev_seq = train_x[-1]\n",
        "        predict = []\n",
        "        # 得到之后100个预测结果\n",
        "        for i in range(100):\n",
        "            next_seq = sess.run(pred, feed_dict={X: [prev_seq]})\n",
        "            predict.append(next_seq[-1])\n",
        "            # 每次得到最后一个时间步的预测结果，与之前的数据加在一起，形成新的测试样本\n",
        "            prev_seq = np.vstack((prev_seq[1:], next_seq[-1]))\n",
        "        # 以折线图表示结果\n",
        "        plt.figure()\n",
        "        plt.plot(list(range(len(normalize_data))), normalize_data, color='b')\n",
        "        plt.plot(list(range(len(normalize_data), len(normalize_data) + len(predict))), predict, color='r')\n",
        "        plt.show()\n",
        "\n",
        "\n",
        "prediction()"
      ],
      "metadata": {
        "colab": {
          "base_uri": "https://localhost:8080/",
          "height": 483
        },
        "id": "iDE4ml1JI_Mn",
        "outputId": "5ba74f07-d533-48b5-ea5f-ff98b87d66fa"
      },
      "execution_count": null,
      "outputs": [
        {
          "output_type": "stream",
          "name": "stdout",
          "text": [
            "WARNING:tensorflow:`tf.nn.rnn_cell.MultiRNNCell` is deprecated. This class is equivalent as `tf.keras.layers.StackedRNNCells`, and will be replaced by that in Tensorflow 2.0.\n"
          ]
        },
        {
          "output_type": "stream",
          "name": "stderr",
          "text": [
            "/usr/local/lib/python3.7/dist-packages/ipykernel_launcher.py:17: UserWarning: `tf.nn.rnn_cell.BasicLSTMCell` is deprecated and will be removed in a future version. This class is equivalent as `tf.keras.layers.LSTMCell`, and will be replaced by that in Tensorflow 2.0.\n",
            "/usr/local/lib/python3.7/dist-packages/keras/layers/legacy_rnn/rnn_cell_impl.py:756: UserWarning: `layer.add_variable` is deprecated and will be removed in a future version. Please use `layer.add_weight` method instead.\n",
            "  shape=[input_depth + h_depth, 4 * self._num_units])\n",
            "/usr/local/lib/python3.7/dist-packages/keras/layers/legacy_rnn/rnn_cell_impl.py:760: UserWarning: `layer.add_variable` is deprecated and will be removed in a future version. Please use `layer.add_weight` method instead.\n",
            "  initializer=tf.compat.v1.zeros_initializer(dtype=self.dtype))\n"
          ]
        },
        {
          "output_type": "error",
          "ename": "ValueError",
          "evalue": "ignored",
          "traceback": [
            "\u001b[0;31m---------------------------------------------------------------------------\u001b[0m",
            "\u001b[0;31mValueError\u001b[0m                                Traceback (most recent call last)",
            "\u001b[0;32m<ipython-input-48-5d8345e71eef>\u001b[0m in \u001b[0;36m<module>\u001b[0;34m()\u001b[0m\n\u001b[1;32m     26\u001b[0m \u001b[0;34m\u001b[0m\u001b[0m\n\u001b[1;32m     27\u001b[0m \u001b[0;34m\u001b[0m\u001b[0m\n\u001b[0;32m---> 28\u001b[0;31m \u001b[0mprediction\u001b[0m\u001b[0;34m(\u001b[0m\u001b[0;34m)\u001b[0m\u001b[0;34m\u001b[0m\u001b[0;34m\u001b[0m\u001b[0m\n\u001b[0m",
            "\u001b[0;32m<ipython-input-48-5d8345e71eef>\u001b[0m in \u001b[0;36mprediction\u001b[0;34m()\u001b[0m\n\u001b[1;32m      7\u001b[0m     \u001b[0msaver\u001b[0m \u001b[0;34m=\u001b[0m \u001b[0mtf\u001b[0m\u001b[0;34m.\u001b[0m\u001b[0mtrain\u001b[0m\u001b[0;34m.\u001b[0m\u001b[0mSaver\u001b[0m\u001b[0;34m(\u001b[0m\u001b[0mtf\u001b[0m\u001b[0;34m.\u001b[0m\u001b[0mglobal_variables\u001b[0m\u001b[0;34m(\u001b[0m\u001b[0;34m)\u001b[0m\u001b[0;34m)\u001b[0m\u001b[0;34m\u001b[0m\u001b[0;34m\u001b[0m\u001b[0m\n\u001b[1;32m      8\u001b[0m     \u001b[0;32mwith\u001b[0m \u001b[0mtf\u001b[0m\u001b[0;34m.\u001b[0m\u001b[0mSession\u001b[0m\u001b[0;34m(\u001b[0m\u001b[0;34m)\u001b[0m \u001b[0;32mas\u001b[0m \u001b[0msess\u001b[0m\u001b[0;34m:\u001b[0m\u001b[0;34m\u001b[0m\u001b[0;34m\u001b[0m\u001b[0m\n\u001b[0;32m----> 9\u001b[0;31m         \u001b[0msaver\u001b[0m\u001b[0;34m.\u001b[0m\u001b[0mrestore\u001b[0m\u001b[0;34m(\u001b[0m\u001b[0msess\u001b[0m\u001b[0;34m,\u001b[0m\u001b[0;34m'model_save1/modle.ckpt'\u001b[0m\u001b[0;34m)\u001b[0m\u001b[0;31m#参数恢复\u001b[0m\u001b[0;34m\u001b[0m\u001b[0;34m\u001b[0m\u001b[0m\n\u001b[0m\u001b[1;32m     10\u001b[0m         \u001b[0;31m# I run the code in windows 10,so use  'model_save1\\\\modle.ckpt'\u001b[0m\u001b[0;34m\u001b[0m\u001b[0;34m\u001b[0m\u001b[0;34m\u001b[0m\u001b[0m\n\u001b[1;32m     11\u001b[0m         \u001b[0;31m# if you run it in Linux,please use  'model_save1/modle.ckpt'\u001b[0m\u001b[0;34m\u001b[0m\u001b[0;34m\u001b[0m\u001b[0;34m\u001b[0m\u001b[0m\n",
            "\u001b[0;32m/usr/local/lib/python3.7/dist-packages/tensorflow/python/training/saver.py\u001b[0m in \u001b[0;36mrestore\u001b[0;34m(self, sess, save_path)\u001b[0m\n\u001b[1;32m   1391\u001b[0m     \u001b[0;32mif\u001b[0m \u001b[0;32mnot\u001b[0m \u001b[0mcheckpoint_management\u001b[0m\u001b[0;34m.\u001b[0m\u001b[0mcheckpoint_exists_internal\u001b[0m\u001b[0;34m(\u001b[0m\u001b[0mcheckpoint_prefix\u001b[0m\u001b[0;34m)\u001b[0m\u001b[0;34m:\u001b[0m\u001b[0;34m\u001b[0m\u001b[0;34m\u001b[0m\u001b[0m\n\u001b[1;32m   1392\u001b[0m       raise ValueError(\"The passed save_path is not a valid checkpoint: \" +\n\u001b[0;32m-> 1393\u001b[0;31m                        checkpoint_prefix)\n\u001b[0m\u001b[1;32m   1394\u001b[0m \u001b[0;34m\u001b[0m\u001b[0m\n\u001b[1;32m   1395\u001b[0m     \u001b[0mlogging\u001b[0m\u001b[0;34m.\u001b[0m\u001b[0minfo\u001b[0m\u001b[0;34m(\u001b[0m\u001b[0;34m\"Restoring parameters from %s\"\u001b[0m\u001b[0;34m,\u001b[0m \u001b[0mcheckpoint_prefix\u001b[0m\u001b[0;34m)\u001b[0m\u001b[0;34m\u001b[0m\u001b[0;34m\u001b[0m\u001b[0m\n",
            "\u001b[0;31mValueError\u001b[0m: The passed save_path is not a valid checkpoint: model_save1/modle.ckpt"
          ]
        }
      ]
    }
  ]
}